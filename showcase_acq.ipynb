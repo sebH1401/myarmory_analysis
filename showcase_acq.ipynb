{
  "nbformat": 4,
  "nbformat_minor": 0,
  "metadata": {
    "colab": {
      "provenance": [],
      "mount_file_id": "1JHt5_nu66SyxGQhN12R--xAn5Gz5J4ui",
      "authorship_tag": "ABX9TyNYw0euqHyliLD3QFWHC/zu",
      "include_colab_link": true
    },
    "kernelspec": {
      "name": "python3",
      "display_name": "Python 3"
    },
    "language_info": {
      "name": "python"
    }
  },
  "cells": [
    {
      "cell_type": "markdown",
      "metadata": {
        "id": "view-in-github",
        "colab_type": "text"
      },
      "source": [
        "<a href=\"https://colab.research.google.com/github/sebH1401/myarmory_analysis/blob/main/showcase_acq.ipynb\" target=\"_parent\"><img src=\"https://colab.research.google.com/assets/colab-badge.svg\" alt=\"Open In Colab\"/></a>"
      ]
    },
    {
      "cell_type": "markdown",
      "source": [
        "**1. Data Acquisition**\n",
        "\n"
      ],
      "metadata": {
        "id": "uQden5Ff6dAD"
      }
    },
    {
      "cell_type": "code",
      "source": [
        "import pandas as pd\n",
        "import requests\n",
        "import numpy as np\n",
        "import datetime\n",
        "import pytz"
      ],
      "metadata": {
        "id": "-_IVQRks7Bqn"
      },
      "execution_count": 1,
      "outputs": []
    },
    {
      "cell_type": "code",
      "source": [
        "with open('/content/lotus/log_list.txt', \"r\") as file:\n",
        "    log_url_list = pd.Series(file.readlines())"
      ],
      "metadata": {
        "id": "7mqLg7F168Ik"
      },
      "execution_count": 7,
      "outputs": []
    },
    {
      "cell_type": "code",
      "source": [
        "def process_log(log_url: str) -> pd.DataFrame:\n",
        "    pre_url = \"https://dps.report/getJson?permalink=\"\n",
        "    match_ids_boons = {\n",
        "        718: \"regen\",\n",
        "        740: \"might\",\n",
        "        1187: \"quick\",\n",
        "        30328: \"alac\",\n",
        "        725: \"fury\"\n",
        "        }\n",
        "    try:\n",
        "        response = requests.get(pre_url+log_url)\n",
        "        log_data = response.json()\n",
        "    except:\n",
        "        return pd.DataFrame()\n",
        "    dur_str = log_data[\"duration\"]\n",
        "    dur_str = dur_str.replace(\"m\", \"\")\n",
        "    dur_str = dur_str.replace(\"s\", \"\")\n",
        "    dur_str = dur_str.split()\n",
        "    time = float(dur_str[0])*60+float(dur_str[1])\n",
        "    timestamp_start = log_data[\"timeStartStd\"]\n",
        "    timestamp_end = log_data[\"timeEndStd\"]\n",
        "    encounter_name = log_data[\"fightName\"]\n",
        "    is_CM = log_data[\"isCM\"]\n",
        "    is_success = log_data[\"success\"]\n",
        "    player_stats = []\n",
        "    for player in log_data[\"players\"]:\n",
        "        acc_name = player[\"account\"]\n",
        "        dps = player[\"dpsAll\"][0][\"dps\"]\n",
        "        dmg_taken = player[\"defenses\"][0][\"damageTaken\"]\n",
        "        downed = player[\"defenses\"][0][\"downCount\"]\n",
        "        if \"deadDuration\" in player[\"defenses\"][0].keys():\n",
        "            dead_duration = player[\"defenses\"][0][\"deadDuration\"]/100\n",
        "        else:\n",
        "            dead_duration = 0\n",
        "        cleanse = player[\"support\"][0][\"condiCleanse\"]\n",
        "        profession = player[\"profession\"]\n",
        "        stack_dist = player[\"statsAll\"][0][\"stackDist\"]\n",
        "        boons = player[\"buffUptimesActive\"]\n",
        "        boons_uptimes = {\n",
        "            \"might\": None,\n",
        "            \"fury\": None,\n",
        "            \"quick\": None,\n",
        "            \"alac\": None,\n",
        "            \"regen\": None\n",
        "            }\n",
        "\n",
        "        for boon in boons:\n",
        "            if boon[\"id\"] in match_ids_boons.keys():\n",
        "                boons_uptimes[match_ids_boons[boon[\"id\"]]] = boon[\"buffData\"][0][\"uptime\"]\n",
        "\n",
        "        boons = player.get(\"groupBuffsActive\")\n",
        "        boons_generated = {\n",
        "            \"might\": None,\n",
        "            \"fury\": None,\n",
        "            \"quick\": None,\n",
        "            \"alac\": None,\n",
        "            \"regen\": None\n",
        "            }\n",
        "\n",
        "        if boons is not None:\n",
        "            for boon in boons:\n",
        "                if boon[\"id\"] in match_ids_boons.keys():\n",
        "                    boons_generated[match_ids_boons[boon[\"id\"]]] = boon[\"buffData\"][0][\"generation\"]\n",
        "\n",
        "        if player[\"statsTargets\"][0][0][\"connectedPowerCount\"]==0:\n",
        "            above90=0;\n",
        "        else:\n",
        "            above90 =100*player[\"statsTargets\"][0][0][\"connectedPowerAbove90HPCount\"]/player[\"statsTargets\"][0][0][\"connectedPowerCount\"]\n",
        "\n",
        "\n",
        "        dataset= {\n",
        "            \"encounter\": encounter_name,\n",
        "            \"is_cm\": is_CM,\n",
        "            \"is_success\": is_success,\n",
        "            \"time\": time,\n",
        "            \"timestamp_start\": timestamp_start,\n",
        "            \"timestamp_end\": timestamp_end,\n",
        "            \"player\": acc_name,\n",
        "            \"profession\": profession,\n",
        "            \"dps\": dps,\n",
        "            \"might up\": boons_uptimes[\"might\"],\n",
        "            \"fury up\": boons_uptimes[\"fury\"],\n",
        "            \"quick up\": boons_uptimes[\"quick\"],\n",
        "            \"alac up\": boons_uptimes[\"alac\"],\n",
        "            \"regen up\": boons_uptimes[\"regen\"],\n",
        "            \"might out\": boons_generated[\"might\"],\n",
        "            \"fury out\": boons_generated[\"fury\"],\n",
        "            \"quick out\": boons_generated[\"quick\"],\n",
        "            \"alac out\": boons_generated[\"alac\"],\n",
        "            \"regen out\": boons_generated[\"regen\"],\n",
        "            \"dmgTaken\": dmg_taken,\n",
        "            \"stack_dist\": stack_dist,\n",
        "            \"downed\": downed,\n",
        "            \"dead_duration\": dead_duration,\n",
        "            \"cleanses\": cleanse,\n",
        "            \"above90%\": above90,\n",
        "            \"log\": log_url\n",
        "            }\n",
        "        player_stats.append(dataset)\n",
        "    return pd.DataFrame(player_stats)"
      ],
      "metadata": {
        "id": "3ojHDRB27NUc"
      },
      "execution_count": 11,
      "outputs": []
    },
    {
      "cell_type": "code",
      "source": [
        "process_logs = np.vectorize(process_log)\n",
        "\n",
        "df = pd.concat(list(process_logs(log_url_list)))"
      ],
      "metadata": {
        "id": "L4DRL-4V7SQa"
      },
      "execution_count": null,
      "outputs": []
    },
    {
      "cell_type": "code",
      "source": [],
      "metadata": {
        "id": "EQQE3jM87Vj6"
      },
      "execution_count": 4,
      "outputs": []
    }
  ]
}